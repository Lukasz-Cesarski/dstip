{
 "cells": [
  {
   "cell_type": "markdown",
   "metadata": {},
   "source": [
    "<img src=\"img/01.png\">"
   ]
  },
  {
   "cell_type": "markdown",
   "metadata": {},
   "source": [
    "# 01. Pandas - Series\n",
    "\n",
    "## 01.01 What is Pandas?\n",
    "\n",
    "#### According to Pandas website: https://pandas.pydata.org\n",
    "\n",
    "Pandas is an open source, BSD-licensed library providing high-performance, easy-to-use data structures and data analysis tools for the Python programming language.\n",
    "\n",
    "#### According to [REF1](../README.md) :\n",
    "\n",
    "Pandas is a newer package built on top of NumPy, and provides an efficient implementation of a **DataFrame**. DataFrames are essentially multidimensional arrays with **attached row and column labels**, and often with **heterogeneous** types and/or missing data"
   ]
  },
  {
   "cell_type": "markdown",
   "metadata": {},
   "source": [
    "## 01.02 Pandas Series - basics\n",
    "\n",
    "A Pandas Series is a one-dimensional array of indexed data.\n",
    "* Create a `Series` object"
   ]
  },
  {
   "cell_type": "code",
   "execution_count": 1,
   "metadata": {},
   "outputs": [],
   "source": [
    "import numpy as np\n",
    "import pandas as pd"
   ]
  },
  {
   "cell_type": "code",
   "execution_count": 2,
   "metadata": {
    "scrolled": true
   },
   "outputs": [
    {
     "data": {
      "text/plain": [
       "0    103\n",
       "1    204\n",
       "2    406\n",
       "3    256\n",
       "dtype: int64"
      ]
     },
     "execution_count": 2,
     "metadata": {},
     "output_type": "execute_result"
    }
   ],
   "source": [
    "series = pd.Series([103, 204, 406, 256])\n",
    "series"
   ]
  },
  {
   "cell_type": "code",
   "execution_count": 3,
   "metadata": {},
   "outputs": [
    {
     "data": {
      "text/plain": [
       "0     1\n",
       "1     4\n",
       "2     9\n",
       "3    16\n",
       "4    25\n",
       "5    36\n",
       "dtype: int64"
      ]
     },
     "execution_count": 3,
     "metadata": {},
     "output_type": "execute_result"
    }
   ],
   "source": [
    "# from list\n",
    "pd.Series([1, 4, 9, 16, 25, 36])"
   ]
  },
  {
   "cell_type": "code",
   "execution_count": 4,
   "metadata": {},
   "outputs": [
    {
     "data": {
      "text/plain": [
       "1     1\n",
       "2     4\n",
       "3     9\n",
       "4    16\n",
       "5    25\n",
       "6    36\n",
       "dtype: int64"
      ]
     },
     "execution_count": 4,
     "metadata": {},
     "output_type": "execute_result"
    }
   ],
   "source": [
    "# from dict\n",
    "pd.Series({x: x**2 for x in range(1, 7)})"
   ]
  },
  {
   "cell_type": "code",
   "execution_count": 5,
   "metadata": {},
   "outputs": [
    {
     "data": {
      "text/plain": [
       "1     1.0\n",
       "2     4.0\n",
       "3     9.0\n",
       "4    16.0\n",
       "5    25.0\n",
       "6    36.0\n",
       "dtype: float32"
      ]
     },
     "execution_count": 5,
     "metadata": {},
     "output_type": "execute_result"
    }
   ],
   "source": [
    "# from list of values and list of indices (we can pass dtype as well)\n",
    "pd.Series([x**2 for x in range(1,7)], index=[x for x in range(1,7)], dtype=np.float32)"
   ]
  },
  {
   "cell_type": "code",
   "execution_count": 6,
   "metadata": {
    "scrolled": true
   },
   "outputs": [
    {
     "data": {
      "text/plain": [
       "John            4\n",
       "Mark            4\n",
       "Daisy           5\n",
       "Alexis          6\n",
       "J.D.            4\n",
       "Constantine    11\n",
       "dtype: int64"
      ]
     },
     "execution_count": 6,
     "metadata": {},
     "output_type": "execute_result"
    }
   ],
   "source": [
    "# integer is is not obligatory for index values\n",
    "pd.Series({name:len(name) for name in ['John', 'Mark', 'Daisy', 'Alexis', 'J.D.', 'Constantine']})"
   ]
  },
  {
   "cell_type": "code",
   "execution_count": 7,
   "metadata": {
    "scrolled": false
   },
   "outputs": [
    {
     "data": {
      "text/plain": [
       "Alabama            4833722\n",
       "Alaska              735132\n",
       "Arizona            6626624\n",
       "Arkansas           2959373\n",
       "California        38332521\n",
       "Colorado           5268367\n",
       "Connecticut        3596080\n",
       "Delaware            925749\n",
       "Florida           19552860\n",
       "Georgia            9992167\n",
       "Hawaii             1404054\n",
       "Idaho              1612136\n",
       "Illinois          12882135\n",
       "Indiana            6570902\n",
       "Iowa               3090416\n",
       "Kansas             2893957\n",
       "Kentucky           4395295\n",
       "Louisiana          4625470\n",
       "Maine              1328302\n",
       "Maryland           5928814\n",
       "Massachusetts      6692824\n",
       "Michigan           9895622\n",
       "Minnesota          5420380\n",
       "Mississippi        2991207\n",
       "Missouri           6044171\n",
       "Montana            1015165\n",
       "Nebraska           1868516\n",
       "Nevada             2790136\n",
       "New Hampshire      1323459\n",
       "New Jersey         8899339\n",
       "New Mexico         2085287\n",
       "New York          19651127\n",
       "North Carolina     9848060\n",
       "North Dakota        723393\n",
       "Ohio              11570808\n",
       "Oklahoma           3850568\n",
       "Oregon             3930065\n",
       "Pennsylvania      12773801\n",
       "Rhode Island       1051511\n",
       "South Carolina     4774839\n",
       "South Dakota        844877\n",
       "Tennessee          6495978\n",
       "Texas             26448193\n",
       "Utah               2900872\n",
       "Vermont             626630\n",
       "Virginia           8260405\n",
       "Washington         6971406\n",
       "West Virginia      1854304\n",
       "Wisconsin          5742713\n",
       "Wyoming             582658\n",
       "Name: population, dtype: int64"
      ]
     },
     "execution_count": 7,
     "metadata": {},
     "output_type": "execute_result"
    }
   ],
   "source": [
    "# read from csv\n",
    "states_pop = pd.read_csv(\"../92_data/usa_states_population.csv\", squeeze=True, names=['population'])\n",
    "states_pop"
   ]
  },
  {
   "cell_type": "markdown",
   "metadata": {},
   "source": [
    "* `Series` properties"
   ]
  },
  {
   "cell_type": "code",
   "execution_count": 8,
   "metadata": {},
   "outputs": [
    {
     "data": {
      "text/plain": [
       "Index(['Alabama', 'Alaska', 'Arizona', 'Arkansas', 'California', 'Colorado',\n",
       "       'Connecticut', 'Delaware', 'Florida', 'Georgia', 'Hawaii', 'Idaho',\n",
       "       'Illinois', 'Indiana', 'Iowa', 'Kansas', 'Kentucky', 'Louisiana',\n",
       "       'Maine', 'Maryland', 'Massachusetts', 'Michigan', 'Minnesota',\n",
       "       'Mississippi', 'Missouri', 'Montana', 'Nebraska', 'Nevada',\n",
       "       'New Hampshire', 'New Jersey', 'New Mexico', 'New York',\n",
       "       'North Carolina', 'North Dakota', 'Ohio', 'Oklahoma', 'Oregon',\n",
       "       'Pennsylvania', 'Rhode Island', 'South Carolina', 'South Dakota',\n",
       "       'Tennessee', 'Texas', 'Utah', 'Vermont', 'Virginia', 'Washington',\n",
       "       'West Virginia', 'Wisconsin', 'Wyoming'],\n",
       "      dtype='object')"
      ]
     },
     "execution_count": 8,
     "metadata": {},
     "output_type": "execute_result"
    }
   ],
   "source": [
    "states_pop.index"
   ]
  },
  {
   "cell_type": "code",
   "execution_count": 9,
   "metadata": {},
   "outputs": [
    {
     "data": {
      "text/plain": [
       "array([ 4833722,   735132,  6626624,  2959373, 38332521,  5268367,\n",
       "        3596080,   925749, 19552860,  9992167,  1404054,  1612136,\n",
       "       12882135,  6570902,  3090416,  2893957,  4395295,  4625470,\n",
       "        1328302,  5928814,  6692824,  9895622,  5420380,  2991207,\n",
       "        6044171,  1015165,  1868516,  2790136,  1323459,  8899339,\n",
       "        2085287, 19651127,  9848060,   723393, 11570808,  3850568,\n",
       "        3930065, 12773801,  1051511,  4774839,   844877,  6495978,\n",
       "       26448193,  2900872,   626630,  8260405,  6971406,  1854304,\n",
       "        5742713,   582658])"
      ]
     },
     "execution_count": 9,
     "metadata": {},
     "output_type": "execute_result"
    }
   ],
   "source": [
    "states_pop.values"
   ]
  },
  {
   "cell_type": "code",
   "execution_count": 10,
   "metadata": {},
   "outputs": [
    {
     "data": {
      "text/plain": [
       "dtype('int64')"
      ]
     },
     "execution_count": 10,
     "metadata": {},
     "output_type": "execute_result"
    }
   ],
   "source": [
    "states_pop.dtype"
   ]
  },
  {
   "cell_type": "code",
   "execution_count": 11,
   "metadata": {},
   "outputs": [
    {
     "data": {
      "text/plain": [
       "'population'"
      ]
     },
     "execution_count": 11,
     "metadata": {},
     "output_type": "execute_result"
    }
   ],
   "source": [
    "states_pop.name"
   ]
  },
  {
   "cell_type": "markdown",
   "metadata": {},
   "source": [
    "## 01.02 Series - Indexing and selection"
   ]
  },
  {
   "cell_type": "code",
   "execution_count": 12,
   "metadata": {},
   "outputs": [
    {
     "data": {
      "text/plain": [
       "4833722"
      ]
     },
     "execution_count": 12,
     "metadata": {},
     "output_type": "execute_result"
    }
   ],
   "source": [
    "# calling index directly as property - I do not recommend this way\n",
    "states_pop.Alabama"
   ]
  },
  {
   "cell_type": "code",
   "execution_count": 13,
   "metadata": {},
   "outputs": [
    {
     "data": {
      "text/plain": [
       "4833722"
      ]
     },
     "execution_count": 13,
     "metadata": {},
     "output_type": "execute_result"
    }
   ],
   "source": [
    "# calling references the explicit index (just like in case of Python dictionary)\n",
    "states_pop['Alabama']"
   ]
  },
  {
   "cell_type": "code",
   "execution_count": 14,
   "metadata": {},
   "outputs": [
    {
     "data": {
      "text/plain": [
       "4833722"
      ]
     },
     "execution_count": 14,
     "metadata": {},
     "output_type": "execute_result"
    }
   ],
   "source": [
    "# calling references the implicit Python-style index (just like in case of Python lists)\n",
    "states_pop[0]"
   ]
  },
  {
   "cell_type": "code",
   "execution_count": 15,
   "metadata": {},
   "outputs": [
    {
     "data": {
      "text/plain": [
       "1     1\n",
       "2     4\n",
       "3     9\n",
       "4    16\n",
       "5    25\n",
       "6    36\n",
       "dtype: int64"
      ]
     },
     "execution_count": 15,
     "metadata": {},
     "output_type": "execute_result"
    }
   ],
   "source": [
    "# sometimes it might be troublesome in case of series like\n",
    "series_index_shift = pd.Series({x: x**2 for x in range(1, 7)})\n",
    "series_index_shift"
   ]
  },
  {
   "cell_type": "code",
   "execution_count": 16,
   "metadata": {},
   "outputs": [
    {
     "data": {
      "text/plain": [
       "1"
      ]
     },
     "execution_count": 16,
     "metadata": {},
     "output_type": "execute_result"
    }
   ],
   "source": [
    "series_index_shift[1]"
   ]
  },
  {
   "cell_type": "code",
   "execution_count": 17,
   "metadata": {},
   "outputs": [
    {
     "data": {
      "text/plain": [
       "4"
      ]
     },
     "execution_count": 17,
     "metadata": {},
     "output_type": "execute_result"
    }
   ],
   "source": [
    "series_index_shift[2]"
   ]
  },
  {
   "cell_type": "code",
   "execution_count": 18,
   "metadata": {},
   "outputs": [
    {
     "data": {
      "text/plain": [
       "1    False\n",
       "2    False\n",
       "3    False\n",
       "4     True\n",
       "5     True\n",
       "6     True\n",
       "dtype: bool"
      ]
     },
     "execution_count": 18,
     "metadata": {},
     "output_type": "execute_result"
    }
   ],
   "source": [
    "# it is very usefull to use masks when working with series\n",
    "series_index_shift_mask = series_index_shift > 10\n",
    "series_index_shift_mask"
   ]
  },
  {
   "cell_type": "code",
   "execution_count": 19,
   "metadata": {},
   "outputs": [
    {
     "data": {
      "text/plain": [
       "4    16\n",
       "5    25\n",
       "6    36\n",
       "dtype: int64"
      ]
     },
     "execution_count": 19,
     "metadata": {},
     "output_type": "execute_result"
    }
   ],
   "source": [
    "# filtering using mask\n",
    "series_index_shift[series_index_shift_mask]"
   ]
  },
  {
   "cell_type": "code",
   "execution_count": 20,
   "metadata": {},
   "outputs": [],
   "source": [
    "# #### you can try calling this\n",
    "# series_index_shift[0]"
   ]
  },
  {
   "cell_type": "markdown",
   "metadata": {},
   "source": [
    "Because of this potential confusion in the case of integer indexes, Pandas provides some special indexer attributes that explicitly expose certain indexing schemes.  \n",
    "`series.loc` - calling references the explicit index (Python dictionary)  \n",
    "`series.iloc` - references the implicit Python-style index (Python list)  \n",
    "\n",
    "**IMPORTANT**:\n",
    "assuming you have index [0,1,2,3,4,5]  \n",
    "`series.loc[1:3]` will return series with a length of 3  \n",
    "`series.iloc[1:3]` will return series with a length of 2  "
   ]
  },
  {
   "cell_type": "code",
   "execution_count": 21,
   "metadata": {},
   "outputs": [
    {
     "data": {
      "text/plain": [
       "4"
      ]
     },
     "execution_count": 21,
     "metadata": {},
     "output_type": "execute_result"
    }
   ],
   "source": [
    "# call the value which corresponds to the index of value \"2\"\n",
    "series_index_shift.loc[2]"
   ]
  },
  {
   "cell_type": "code",
   "execution_count": 22,
   "metadata": {},
   "outputs": [
    {
     "data": {
      "text/plain": [
       "9"
      ]
     },
     "execution_count": 22,
     "metadata": {},
     "output_type": "execute_result"
    }
   ],
   "source": [
    "# call value corresponding to the third element (we stat counting from 0) in our series\n",
    "series_index_shift.iloc[2]"
   ]
  },
  {
   "cell_type": "code",
   "execution_count": 34,
   "metadata": {},
   "outputs": [
    {
     "data": {
      "text/plain": [
       "1    1\n",
       "2    2\n",
       "3    3\n",
       "dtype: int64"
      ]
     },
     "execution_count": 34,
     "metadata": {},
     "output_type": "execute_result"
    }
   ],
   "source": [
    "pd.Series([0,1,2,3,4,5]).loc[1:3]"
   ]
  },
  {
   "cell_type": "code",
   "execution_count": 36,
   "metadata": {},
   "outputs": [
    {
     "data": {
      "text/plain": [
       "1    1\n",
       "2    2\n",
       "dtype: int64"
      ]
     },
     "execution_count": 36,
     "metadata": {},
     "output_type": "execute_result"
    }
   ],
   "source": [
    "pd.Series([0,1,2,3,4,5]).iloc[1:3]"
   ]
  },
  {
   "cell_type": "markdown",
   "metadata": {},
   "source": [
    "All the NumPy slicing and indexing tricks works in this case as well"
   ]
  },
  {
   "cell_type": "code",
   "execution_count": 23,
   "metadata": {},
   "outputs": [
    {
     "data": {
      "text/plain": [
       "Alabama        4833722\n",
       "Alaska          735132\n",
       "Arizona        6626624\n",
       "Arkansas       2959373\n",
       "California    38332521\n",
       "Name: population, dtype: int64"
      ]
     },
     "execution_count": 23,
     "metadata": {},
     "output_type": "execute_result"
    }
   ],
   "source": [
    "# slicing\n",
    "states_pop['Alabama':'California']"
   ]
  },
  {
   "cell_type": "code",
   "execution_count": 24,
   "metadata": {},
   "outputs": [
    {
     "data": {
      "text/plain": [
       "Alabama        4833722\n",
       "Arizona        6626624\n",
       "California    38332521\n",
       "Name: population, dtype: int64"
      ]
     },
     "execution_count": 24,
     "metadata": {},
     "output_type": "execute_result"
    }
   ],
   "source": [
    "# more slicing with `loc`\n",
    "states_pop.loc['Alabama':'California':2]"
   ]
  },
  {
   "cell_type": "code",
   "execution_count": 25,
   "metadata": {},
   "outputs": [
    {
     "data": {
      "text/plain": [
       "Alabama     4833722\n",
       "Delaware     925749\n",
       "Alabama     4833722\n",
       "Nevada      2790136\n",
       "Alabama     4833722\n",
       "Name: population, dtype: int64"
      ]
     },
     "execution_count": 25,
     "metadata": {},
     "output_type": "execute_result"
    }
   ],
   "source": [
    "# fancy indexing\n",
    "states_pop[['Alabama', 'Delaware', 'Alabama', 'Nevada', 'Alabama']]"
   ]
  },
  {
   "cell_type": "code",
   "execution_count": 26,
   "metadata": {},
   "outputs": [
    {
     "data": {
      "text/plain": [
       "New Jersey         8899339\n",
       "Kansas             2893957\n",
       "Delaware            925749\n",
       "New York          19651127\n",
       "Florida           19552860\n",
       "Hawaii             1404054\n",
       "Oklahoma           3850568\n",
       "Maryland           5928814\n",
       "Alaska              735132\n",
       "Idaho              1612136\n",
       "Rhode Island       1051511\n",
       "Minnesota          5420380\n",
       "Nebraska           1868516\n",
       "Wyoming             582658\n",
       "Vermont             626630\n",
       "Wisconsin          5742713\n",
       "Illinois          12882135\n",
       "Connecticut        3596080\n",
       "Texas             26448193\n",
       "Arkansas           2959373\n",
       "Montana            1015165\n",
       "Oregon             3930065\n",
       "Washington         6971406\n",
       "Alabama            4833722\n",
       "North Dakota        723393\n",
       "South Carolina     4774839\n",
       "South Dakota        844877\n",
       "Utah               2900872\n",
       "Kentucky           4395295\n",
       "Georgia            9992167\n",
       "Tennessee          6495978\n",
       "West Virginia      1854304\n",
       "Virginia           8260405\n",
       "Arizona            6626624\n",
       "Michigan           9895622\n",
       "Louisiana          4625470\n",
       "New Hampshire      1323459\n",
       "North Carolina     9848060\n",
       "New Mexico         2085287\n",
       "Nevada             2790136\n",
       "Pennsylvania      12773801\n",
       "Colorado           5268367\n",
       "Ohio              11570808\n",
       "Indiana            6570902\n",
       "Mississippi        2991207\n",
       "Missouri           6044171\n",
       "Iowa               3090416\n",
       "California        38332521\n",
       "Massachusetts      6692824\n",
       "Maine              1328302\n",
       "Name: population, dtype: int64"
      ]
     },
     "execution_count": 26,
     "metadata": {},
     "output_type": "execute_result"
    }
   ],
   "source": [
    "# lets try to shuffle index\n",
    "states_pop_shuffled = states_pop.sample(frac=1.0)\n",
    "states_pop_shuffled"
   ]
  },
  {
   "cell_type": "code",
   "execution_count": 27,
   "metadata": {},
   "outputs": [
    {
     "data": {
      "text/plain": [
       "Series([], Name: population, dtype: int64)"
      ]
     },
     "execution_count": 27,
     "metadata": {},
     "output_type": "execute_result"
    }
   ],
   "source": [
    "states_pop_shuffled['New Hampshire':'Montana']"
   ]
  },
  {
   "cell_type": "markdown",
   "metadata": {},
   "source": [
    "**IMPORTANT NOTE:** If we multi-indexing many operations like slicing may fail when we do not use sorted index"
   ]
  },
  {
   "cell_type": "markdown",
   "metadata": {},
   "source": [
    "## 01.03 Series - Operations"
   ]
  },
  {
   "cell_type": "code",
   "execution_count": 28,
   "metadata": {},
   "outputs": [
    {
     "data": {
      "text/plain": [
       "Alabama            4.833722\n",
       "Alaska             0.735132\n",
       "Arizona            6.626624\n",
       "Arkansas           2.959373\n",
       "California        38.332521\n",
       "Colorado           5.268367\n",
       "Connecticut        3.596080\n",
       "Delaware           0.925749\n",
       "Florida           19.552860\n",
       "Georgia            9.992167\n",
       "Hawaii             1.404054\n",
       "Idaho              1.612136\n",
       "Illinois          12.882135\n",
       "Indiana            6.570902\n",
       "Iowa               3.090416\n",
       "Kansas             2.893957\n",
       "Kentucky           4.395295\n",
       "Louisiana          4.625470\n",
       "Maine              1.328302\n",
       "Maryland           5.928814\n",
       "Massachusetts      6.692824\n",
       "Michigan           9.895622\n",
       "Minnesota          5.420380\n",
       "Mississippi        2.991207\n",
       "Missouri           6.044171\n",
       "Montana            1.015165\n",
       "Nebraska           1.868516\n",
       "Nevada             2.790136\n",
       "New Hampshire      1.323459\n",
       "New Jersey         8.899339\n",
       "New Mexico         2.085287\n",
       "New York          19.651127\n",
       "North Carolina     9.848060\n",
       "North Dakota       0.723393\n",
       "Ohio              11.570808\n",
       "Oklahoma           3.850568\n",
       "Oregon             3.930065\n",
       "Pennsylvania      12.773801\n",
       "Rhode Island       1.051511\n",
       "South Carolina     4.774839\n",
       "South Dakota       0.844877\n",
       "Tennessee          6.495978\n",
       "Texas             26.448193\n",
       "Utah               2.900872\n",
       "Vermont            0.626630\n",
       "Virginia           8.260405\n",
       "Washington         6.971406\n",
       "West Virginia      1.854304\n",
       "Wisconsin          5.742713\n",
       "Wyoming            0.582658\n",
       "Name: population, dtype: float64"
      ]
     },
     "execution_count": 28,
     "metadata": {},
     "output_type": "execute_result"
    }
   ],
   "source": [
    "# python functions\n",
    "states_pop / 1_000_000"
   ]
  },
  {
   "cell_type": "code",
   "execution_count": 29,
   "metadata": {},
   "outputs": [
    {
     "data": {
      "text/plain": [
       "Alabama           6.684282\n",
       "Alaska            5.866365\n",
       "Arizona           6.821292\n",
       "Arkansas          6.471200\n",
       "California        7.583567\n",
       "Colorado          6.721676\n",
       "Connecticut       6.555829\n",
       "Delaware          5.966493\n",
       "Florida           7.291210\n",
       "Georgia           6.999660\n",
       "Hawaii            6.147384\n",
       "Idaho             6.207402\n",
       "Illinois          7.109988\n",
       "Indiana           6.817625\n",
       "Iowa              6.490017\n",
       "Kansas            6.461492\n",
       "Kentucky          6.642988\n",
       "Louisiana         6.665156\n",
       "Maine             6.123297\n",
       "Maryland          6.772968\n",
       "Massachusetts     6.825609\n",
       "Michigan          6.995443\n",
       "Minnesota         6.734030\n",
       "Mississippi       6.475846\n",
       "Missouri          6.781337\n",
       "Montana           6.006537\n",
       "Nebraska          6.271497\n",
       "Nevada            6.445625\n",
       "New Hampshire     6.121710\n",
       "New Jersey        6.949358\n",
       "New Mexico        6.319166\n",
       "New York          7.293387\n",
       "North Carolina    6.993351\n",
       "North Dakota      5.859374\n",
       "Ohio              7.063364\n",
       "Oklahoma          6.585525\n",
       "Oregon            6.594400\n",
       "Pennsylvania      7.106320\n",
       "Rhode Island      6.021814\n",
       "South Carolina    6.678959\n",
       "South Dakota      5.926793\n",
       "Tennessee         6.812645\n",
       "Texas             7.422396\n",
       "Utah              6.462529\n",
       "Vermont           5.797011\n",
       "Virginia          6.917001\n",
       "Washington        6.843320\n",
       "West Virginia     6.268181\n",
       "Wisconsin         6.759117\n",
       "Wyoming           5.765414\n",
       "Name: population, dtype: float64"
      ]
     },
     "execution_count": 29,
     "metadata": {},
     "output_type": "execute_result"
    }
   ],
   "source": [
    "# numpy functions\n",
    "np.log10(states_pop)"
   ]
  },
  {
   "cell_type": "code",
   "execution_count": 30,
   "metadata": {},
   "outputs": [
    {
     "data": {
      "text/plain": [
       "Alabama            4\n",
       "Alaska             0\n",
       "Arizona            6\n",
       "Arkansas           2\n",
       "California        38\n",
       "Colorado           5\n",
       "Connecticut        3\n",
       "Delaware           0\n",
       "Florida           19\n",
       "Georgia            9\n",
       "Hawaii             1\n",
       "Idaho              1\n",
       "Illinois          12\n",
       "Indiana            6\n",
       "Iowa               3\n",
       "Kansas             2\n",
       "Kentucky           4\n",
       "Louisiana          4\n",
       "Maine              1\n",
       "Maryland           5\n",
       "Massachusetts      6\n",
       "Michigan           9\n",
       "Minnesota          5\n",
       "Mississippi        2\n",
       "Missouri           6\n",
       "Montana            1\n",
       "Nebraska           1\n",
       "Nevada             2\n",
       "New Hampshire      1\n",
       "New Jersey         8\n",
       "New Mexico         2\n",
       "New York          19\n",
       "North Carolina     9\n",
       "North Dakota       0\n",
       "Ohio              11\n",
       "Oklahoma           3\n",
       "Oregon             3\n",
       "Pennsylvania      12\n",
       "Rhode Island       1\n",
       "South Carolina     4\n",
       "South Dakota       0\n",
       "Tennessee          6\n",
       "Texas             26\n",
       "Utah               2\n",
       "Vermont            0\n",
       "Virginia           8\n",
       "Washington         6\n",
       "West Virginia      1\n",
       "Wisconsin          5\n",
       "Wyoming            0\n",
       "Name: population, dtype: int64"
      ]
     },
     "execution_count": 30,
     "metadata": {},
     "output_type": "execute_result"
    }
   ],
   "source": [
    "# let's try to get more intuition about population\n",
    "states_pop_milions = states_pop // 1_000_000\n",
    "states_pop_milions"
   ]
  },
  {
   "cell_type": "code",
   "execution_count": 31,
   "metadata": {},
   "outputs": [
    {
     "data": {
      "text/plain": [
       "1     8\n",
       "6     6\n",
       "2     6\n",
       "0     6\n",
       "5     4\n",
       "4     4\n",
       "3     4\n",
       "9     3\n",
       "19    2\n",
       "12    2\n",
       "8     2\n",
       "38    1\n",
       "26    1\n",
       "11    1\n",
       "Name: population, dtype: int64"
      ]
     },
     "execution_count": 31,
     "metadata": {},
     "output_type": "execute_result"
    }
   ],
   "source": [
    "# this `value_counts` command is EXTREMELY useful!\n",
    "states_pop_milions.value_counts()"
   ]
  },
  {
   "cell_type": "markdown",
   "metadata": {},
   "source": [
    "**EXCERCISE 04.01**\n",
    "\n",
    "1. What is the mean population for all states?\n",
    "2. How many states have population below mean claculated in p.1?\n",
    "3. What is a standard deviation for all states/above mean subgroup/below mean subgroup (mean calculated in p.1)?\n",
    "\n",
    "TIPS:\n",
    "to get `not` in `pandas` use:\n",
    "```python\n",
    "mask1 = pd.Series([True, False, False])\n",
    "mask2 = ~mask1 # mask2 = pd.Series([False, True, True])\n",
    "```\n",
    "to calculate standard deviation use:\n",
    "```python\n",
    "series1.std()\n",
    "```"
   ]
  },
  {
   "cell_type": "code",
   "execution_count": 32,
   "metadata": {},
   "outputs": [],
   "source": [
    "### YOUR CODE HERE:\n",
    "pass\n",
    "### END YOUR CODE"
   ]
  },
  {
   "cell_type": "code",
   "execution_count": 33,
   "metadata": {},
   "outputs": [],
   "source": [
    "### TO SHOW SOLUTION USE LINE BELOW ###\n",
    "# %load ../91_solutions/ex4_1.py"
   ]
  },
  {
   "cell_type": "code",
   "execution_count": null,
   "metadata": {},
   "outputs": [],
   "source": []
  }
 ],
 "metadata": {
  "kernelspec": {
   "display_name": "Python 3",
   "language": "python",
   "name": "python3"
  },
  "language_info": {
   "codemirror_mode": {
    "name": "ipython",
    "version": 3
   },
   "file_extension": ".py",
   "mimetype": "text/x-python",
   "name": "python",
   "nbconvert_exporter": "python",
   "pygments_lexer": "ipython3",
   "version": "3.6.8"
  }
 },
 "nbformat": 4,
 "nbformat_minor": 2
}
