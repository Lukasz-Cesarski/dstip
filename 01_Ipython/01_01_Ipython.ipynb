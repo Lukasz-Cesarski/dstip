{
 "cells": [
  {
   "cell_type": "markdown",
   "metadata": {},
   "source": [
    "<img src=\"img/02.png\">\n",
    "\n",
    "# 01. IPython\n",
    "\n",
    "## 01.01 What is IPython?\n",
    "\n",
    "#### According to the IPython Website: https://ipython.org\n",
    "\n",
    "IPython provides a rich architecture for interactive computing with:\n",
    "\n",
    "- A powerful interactive shell. _(I confirm)_\n",
    "- A kernel for Jupyter. _(I confirm)_\n",
    "- Support for interactive data visualization and use of GUI toolkits. _(I confirm)_\n",
    "- Flexible, embeddable interpreters to load into your own projects. _(I have no experience)_\n",
    "- Easy to use, high performance tools for parallel computing. _(I have no experience)_\n",
    "\n",
    "#### According to [REF1](../README.md) :\n",
    "\n",
    "IPython (short for Interactive Python) was started in 2001 by Fernando Perez as an enhanced Python interpreter, and has since grown into a project aiming to provide, in Perez’s words, “Tools for the entire lifecycle of research computing.” **If Python is the engine of our data science task, you might think of IPython as the interactive control panel.**\n"
   ]
  },
  {
   "cell_type": "markdown",
   "metadata": {},
   "source": [
    "Run IPython:\n",
    "<img src=\"img/01.png\">"
   ]
  },
  {
   "cell_type": "markdown",
   "metadata": {},
   "source": [
    "## 01.02 Useful IPython tips&tricks\n",
    "\n",
    "### 01.02.01 Quick access with `?` and `??`\n",
    "This is a small thing but it is amazing!\n",
    "\n",
    "To see documentation\n",
    "```python\n",
    "print?\n",
    "```\n",
    "To see source code (better check on 3rd party packages, not Built-in Functions)\n",
    "```python\n",
    "import matplotlib.pyplot as plt\n",
    "plt.subplots??\n",
    "```"
   ]
  },
  {
   "cell_type": "markdown",
   "metadata": {},
   "source": [
    "### 01.02.02 IPython Magic Commands\n",
    "\n",
    "Run the named file inside IPython as a program:"
   ]
  },
  {
   "cell_type": "code",
   "execution_count": 1,
   "metadata": {
    "scrolled": true
   },
   "outputs": [
    {
     "name": "stdout",
     "output_type": "stream",
     "text": [
      "Hello J|o|h|n!\n",
      "Hello M|i|k|e!\n",
      "Hello E|m|i|l|y!\n"
     ]
    }
   ],
   "source": [
    "%run meet_us.py"
   ]
  },
  {
   "cell_type": "markdown",
   "metadata": {},
   "source": [
    "Measure time with `%timeit`"
   ]
  },
  {
   "cell_type": "code",
   "execution_count": 2,
   "metadata": {},
   "outputs": [
    {
     "name": "stdout",
     "output_type": "stream",
     "text": [
      "361 µs ± 4.95 µs per loop (mean ± std. dev. of 7 runs, 1000 loops each)\n"
     ]
    }
   ],
   "source": [
    "%timeit full_sum=sum([k for k in range(10_000)])"
   ]
  },
  {
   "cell_type": "markdown",
   "metadata": {},
   "source": [
    "Double percent sign eg. `%%timeit` means: Apply for the whole cell instead of a single line"
   ]
  },
  {
   "cell_type": "code",
   "execution_count": 3,
   "metadata": {},
   "outputs": [
    {
     "name": "stdout",
     "output_type": "stream",
     "text": [
      "163 µs ± 17.2 µs per loop (mean ± std. dev. of 7 runs, 10000 loops each)\n"
     ]
    }
   ],
   "source": [
    "%%timeit \n",
    "k = 0\n",
    "full_sum = 0\n",
    "while full_sum < 10e5:\n",
    "    full_sum += k\n",
    "    k += 1"
   ]
  },
  {
   "cell_type": "markdown",
   "metadata": {},
   "source": [
    "Arguments can be passed to Magic Commands via:"
   ]
  },
  {
   "cell_type": "code",
   "execution_count": 4,
   "metadata": {
    "scrolled": true
   },
   "outputs": [
    {
     "name": "stdout",
     "output_type": "stream",
     "text": [
      "156 µs ± 657 ns per loop (mean ± std. dev. of 2 runs, 5 loops each)\n"
     ]
    }
   ],
   "source": [
    "%%timeit -n 5 -r 2\n",
    "k = 0\n",
    "full_sum = 0\n",
    "while full_sum < 10e5:\n",
    "    full_sum += k\n",
    "    k += 1"
   ]
  },
  {
   "cell_type": "markdown",
   "metadata": {},
   "source": [
    "### 01.02.03 Input and output history\n",
    "\n",
    "`In` and `Out` variables are set automatically and stores all intput ad output values related with cells"
   ]
  },
  {
   "cell_type": "code",
   "execution_count": 5,
   "metadata": {
    "scrolled": true
   },
   "outputs": [
    {
     "name": "stdout",
     "output_type": "stream",
     "text": [
      "['', \"get_ipython().run_line_magic('run', 'meet_us.py')\", \"get_ipython().run_line_magic('timeit', 'full_sum=sum([k for k in range(10_000)])')\", \"get_ipython().run_cell_magic('timeit', '', 'k = 0\\\\nfull_sum = 0\\\\nwhile full_sum < 10e5:\\\\n    full_sum += k\\\\n    k += 1')\", \"get_ipython().run_cell_magic('timeit', '-n 5 -r 2', 'k = 0\\\\nfull_sum = 0\\\\nwhile full_sum < 10e5:\\\\n    full_sum += k\\\\n    k += 1')\", 'print(In)']\n"
     ]
    }
   ],
   "source": [
    "print(In)"
   ]
  },
  {
   "cell_type": "code",
   "execution_count": 6,
   "metadata": {},
   "outputs": [],
   "source": [
    "x = 100"
   ]
  },
  {
   "cell_type": "code",
   "execution_count": 7,
   "metadata": {},
   "outputs": [
    {
     "data": {
      "text/plain": [
       "101"
      ]
     },
     "execution_count": 7,
     "metadata": {},
     "output_type": "execute_result"
    }
   ],
   "source": [
    "x += 1\n",
    "x"
   ]
  },
  {
   "cell_type": "code",
   "execution_count": 8,
   "metadata": {},
   "outputs": [
    {
     "data": {
      "text/plain": [
       "102"
      ]
     },
     "execution_count": 8,
     "metadata": {},
     "output_type": "execute_result"
    }
   ],
   "source": [
    "x += 1\n",
    "x"
   ]
  },
  {
   "cell_type": "code",
   "execution_count": 9,
   "metadata": {},
   "outputs": [
    {
     "data": {
      "text/plain": [
       "103"
      ]
     },
     "execution_count": 9,
     "metadata": {},
     "output_type": "execute_result"
    }
   ],
   "source": [
    "x += 1\n",
    "x"
   ]
  },
  {
   "cell_type": "code",
   "execution_count": 10,
   "metadata": {},
   "outputs": [
    {
     "data": {
      "text/plain": [
       "104"
      ]
     },
     "execution_count": 10,
     "metadata": {},
     "output_type": "execute_result"
    }
   ],
   "source": [
    "x += 1\n",
    "x"
   ]
  },
  {
   "cell_type": "code",
   "execution_count": 11,
   "metadata": {},
   "outputs": [
    {
     "name": "stdout",
     "output_type": "stream",
     "text": [
      "{7: 101, 8: 102, 9: 103, 10: 104}\n"
     ]
    }
   ],
   "source": [
    "print(Out)"
   ]
  },
  {
   "cell_type": "code",
   "execution_count": 12,
   "metadata": {
    "scrolled": true
   },
   "outputs": [
    {
     "name": "stdout",
     "output_type": "stream",
     "text": [
      "103\n"
     ]
    }
   ],
   "source": [
    "print(Out[9])"
   ]
  },
  {
   "cell_type": "markdown",
   "metadata": {},
   "source": [
    "Pure `python` allows us to explore returning history with with one underscore `_`. In `IPython` we have upt to 3 underscores avaliable"
   ]
  },
  {
   "cell_type": "code",
   "execution_count": 13,
   "metadata": {},
   "outputs": [
    {
     "name": "stdout",
     "output_type": "stream",
     "text": [
      "104\n"
     ]
    }
   ],
   "source": [
    "print(_)"
   ]
  },
  {
   "cell_type": "code",
   "execution_count": 14,
   "metadata": {},
   "outputs": [
    {
     "name": "stdout",
     "output_type": "stream",
     "text": [
      "103\n"
     ]
    }
   ],
   "source": [
    "print(__)"
   ]
  },
  {
   "cell_type": "code",
   "execution_count": 15,
   "metadata": {
    "scrolled": true
   },
   "outputs": [
    {
     "name": "stdout",
     "output_type": "stream",
     "text": [
      "102\n"
     ]
    }
   ],
   "source": [
    "print(___)"
   ]
  },
  {
   "cell_type": "markdown",
   "metadata": {},
   "source": [
    "To surpass output add `;` at the end of code line"
   ]
  },
  {
   "cell_type": "code",
   "execution_count": 16,
   "metadata": {},
   "outputs": [
    {
     "data": {
      "text/plain": [
       "11020"
      ]
     },
     "execution_count": 16,
     "metadata": {},
     "output_type": "execute_result"
    }
   ],
   "source": [
    "sum([100, x, x**2])"
   ]
  },
  {
   "cell_type": "code",
   "execution_count": 17,
   "metadata": {},
   "outputs": [],
   "source": [
    "sum([100, x, x**2]);"
   ]
  },
  {
   "cell_type": "markdown",
   "metadata": {},
   "source": [
    "### 01.02.04 Shell commands\n",
    "\n",
    "To run shell command start the line with exclamation mark"
   ]
  },
  {
   "cell_type": "code",
   "execution_count": 18,
   "metadata": {
    "scrolled": true
   },
   "outputs": [
    {
     "name": "stdout",
     "output_type": "stream",
     "text": [
      "/home/lcs123/venvs/dstip_venv/bin:/home/lcs123/anaconda3/bin:/usr/local/sbin:/usr/local/bin:/usr/sbin:/usr/bin:/sbin:/bin:/usr/games:/usr/local/games:/snap/bin\r\n"
     ]
    }
   ],
   "source": [
    "!echo $PATH"
   ]
  },
  {
   "cell_type": "markdown",
   "metadata": {},
   "source": [
    "You can easy combine `IPython` and `shell` functionality"
   ]
  },
  {
   "cell_type": "code",
   "execution_count": 19,
   "metadata": {},
   "outputs": [
    {
     "name": "stdout",
     "output_type": "stream",
     "text": [
      "<class 'IPython.utils.text.SList'>\n",
      "['01_01_Ipython.html', '01_01_Ipython.ipynb', '01_01_Ipython.pdf', 'img', 'meet_us.py']\n"
     ]
    }
   ],
   "source": [
    "directory_content = !ls\n",
    "print(type(directory_content))\n",
    "print(directory_content)"
   ]
  },
  {
   "cell_type": "code",
   "execution_count": 20,
   "metadata": {},
   "outputs": [
    {
     "name": "stdout",
     "output_type": "stream",
     "text": [
      "<class 'IPython.utils.text.SList'>\n",
      "['/home/lcs123/DS/dstip/01_Ipython']\n"
     ]
    }
   ],
   "source": [
    "current_working_dir = !pwd\n",
    "print(type(current_working_dir))\n",
    "print(current_working_dir)"
   ]
  },
  {
   "cell_type": "code",
   "execution_count": 21,
   "metadata": {},
   "outputs": [],
   "source": [
    "text_to_print = \"Welcome stranger!\""
   ]
  },
  {
   "cell_type": "code",
   "execution_count": 22,
   "metadata": {},
   "outputs": [
    {
     "name": "stdout",
     "output_type": "stream",
     "text": [
      "Welcome stranger!\r\n"
     ]
    }
   ],
   "source": [
    "!echo $text_to_print"
   ]
  },
  {
   "cell_type": "code",
   "execution_count": 23,
   "metadata": {},
   "outputs": [
    {
     "name": "stdout",
     "output_type": "stream",
     "text": [
      "Welcome stranger!\r\n"
     ]
    }
   ],
   "source": [
    "!echo {text_to_print}"
   ]
  },
  {
   "cell_type": "code",
   "execution_count": 24,
   "metadata": {},
   "outputs": [
    {
     "name": "stdout",
     "output_type": "stream",
     "text": [
      "text_to_print\r\n"
     ]
    }
   ],
   "source": [
    "!echo text_to_print"
   ]
  },
  {
   "cell_type": "markdown",
   "metadata": {},
   "source": [
    "Other `IPython` funcionalities like:\n",
    "- profiling\n",
    "- debugging\n",
    "- and many more \n",
    "\n",
    "you can find in [REF1](../README.md)\n",
    "\n",
    "If you are REALLY interestd in IPython: *Cyrille Rossant: IPython Interactive Computing and Visualization Cookbook - Second Edition*"
   ]
  },
  {
   "cell_type": "markdown",
   "metadata": {},
   "source": [
    "### 01.02.05 When to use `IPython`?"
   ]
  },
  {
   "cell_type": "markdown",
   "metadata": {},
   "source": [
    "When TO USE | When NOT TO USE\n",
    "------------ | -------------\n",
    "Interactive computing | Production level Software Development (you will see no difference)\n",
    "Exploring, prototyping, learning | "
   ]
  },
  {
   "cell_type": "code",
   "execution_count": null,
   "metadata": {},
   "outputs": [],
   "source": []
  }
 ],
 "metadata": {
  "kernelspec": {
   "display_name": "Python (ds1)",
   "language": "python",
   "name": "myenv"
  },
  "language_info": {
   "codemirror_mode": {
    "name": "ipython",
    "version": 3
   },
   "file_extension": ".py",
   "mimetype": "text/x-python",
   "name": "python",
   "nbconvert_exporter": "python",
   "pygments_lexer": "ipython3",
   "version": "3.6.6"
  }
 },
 "nbformat": 4,
 "nbformat_minor": 2
}
