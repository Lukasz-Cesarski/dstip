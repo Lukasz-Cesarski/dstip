{
 "cells": [
  {
   "cell_type": "markdown",
   "metadata": {},
   "source": [
    "<img src=\"img/01.png\">\n",
    "\n",
    "\n",
    "# 01. Jupyter Notebook\n",
    "\n",
    "## 01.01 What is Jupyter Notebook?\n",
    "\n",
    "#### According to Jupyter Notebook website: https://jupyter.org\n",
    "\n",
    "The Jupyter Notebook is an open-source web application that allows you to create and share documents that contain live code, equations, visualizations and narrative text. Uses include: data cleaning and transformation, numerical simulation, statistical modeling, data visualization, machine learning, and much more.\n",
    "\n",
    "#### According to [REF1](../README.md) :\n",
    "\n",
    "The Jupyter notebook is a **browser-based graphical interface to the IPython shell**, and builds on it a rich set of dynamic display capabilities. As well as executing Python/IPython statements, the notebook allows the user to include formatted text, static and dynamic visualizations, mathematical equations, JavaScript widgets, and much more. Furthermore, these documents can be saved in a way that lets other people open them and execute the code on their own systems."
   ]
  },
  {
   "cell_type": "markdown",
   "metadata": {},
   "source": [
    "## 01.02 Basic Jupyter Notebook fuctionalities\n",
    "\n",
    "### 01.02.01 Code cells\n",
    "\n",
    "This is basic functionality when you execute code"
   ]
  },
  {
   "cell_type": "code",
   "execution_count": 1,
   "metadata": {},
   "outputs": [
    {
     "name": "stdout",
     "output_type": "stream",
     "text": [
      "[  0.   4.   8.  12.  16.  20.  24.  28.  32.  36.  40.  44.  48.  52.\n",
      "  56.  60.  64.  68.  72.  76.  80.  84.  88.  92.  96. 100.]\n"
     ]
    }
   ],
   "source": [
    "import numpy as np\n",
    "print(np.linspace(0, 100, 26))"
   ]
  },
  {
   "cell_type": "code",
   "execution_count": 2,
   "metadata": {
    "scrolled": false
   },
   "outputs": [
    {
     "data": {
      "text/markdown": [
       "#### You can return a markdown as well"
      ],
      "text/plain": [
       "<IPython.core.display.Markdown object>"
      ]
     },
     "metadata": {},
     "output_type": "display_data"
    }
   ],
   "source": [
    "from IPython.display import display, Markdown, Latex\n",
    "display(Markdown(\"#### You can return a markdown as well\"))"
   ]
  },
  {
   "cell_type": "markdown",
   "metadata": {},
   "source": [
    "Other langauges code (eg. HTML) can be executed as well. Below example to turn on/off raw code in Jupyter Notebook"
   ]
  },
  {
   "cell_type": "code",
   "execution_count": 3,
   "metadata": {},
   "outputs": [
    {
     "data": {
      "text/html": [
       "<script>\n",
       "code_show=true; \n",
       "function code_toggle() {\n",
       " if (code_show){\n",
       " $('div.input').hide();\n",
       " } else {\n",
       " $('div.input').show();\n",
       " }\n",
       " code_show = !code_show\n",
       "} \n",
       "$( document ).ready(code_toggle);\n",
       "</script>\n",
       "<form action=\"javascript:code_toggle()\"><input type=\"submit\" value=\"Click here to toggle on/off the raw code.\"></form>"
      ],
      "text/plain": [
       "<IPython.core.display.HTML object>"
      ]
     },
     "execution_count": 3,
     "metadata": {},
     "output_type": "execute_result"
    }
   ],
   "source": [
    "from IPython.display import HTML\n",
    "\n",
    "HTML('''<script>\n",
    "code_show=true; \n",
    "function code_toggle() {\n",
    " if (code_show){\n",
    " $('div.input').hide();\n",
    " } else {\n",
    " $('div.input').show();\n",
    " }\n",
    " code_show = !code_show\n",
    "} \n",
    "$( document ).ready(code_toggle);\n",
    "</script>\n",
    "<form action=\"javascript:code_toggle()\"><input type=\"submit\" value=\"Click here to toggle on/off the raw code.\"></form>''')"
   ]
  },
  {
   "cell_type": "markdown",
   "metadata": {},
   "source": [
    "### 01.02.02 Markdown cells\n",
    "\n",
    "Text written in this type of cells will be intepreted as `.md` file. \n",
    "\n",
    "Sample markdown cheat sheet can be found [here](https://guides.github.com/features/mastering-markdown/) \n",
    "\n",
    "**Bold text**\n",
    "\n",
    "*Italics*\n",
    "\n",
    "- [x] TODO1  \n",
    "- [ ] TODO2  \n",
    "- [ ] TODO3  \n",
    "\n",
    "First Header | Second Header\n",
    "------------ | -------------\n",
    "Content from cell 1 | Content from cell 2\n",
    "Content in the first column | Content in the second column\n",
    "\n",
    "You can use LATEX:\n",
    "$$c = \\sqrt{a^2 + b^2}$$\n",
    "\n",
    "Code can be written as well\n",
    "\n",
    "```python\n",
    "for k in range(10):\n",
    "    print(k)\n",
    "```"
   ]
  },
  {
   "cell_type": "markdown",
   "metadata": {},
   "source": [
    "### 01.02.03 Jupyter Notebook menu\n",
    "\n",
    "How to open the console:\n",
    "1. Use `New` > `Terminal`\n",
    "<img src=\"img/02.png\">\n",
    "\n",
    "How to upload new file to the sever (when you work remotely):\n",
    "1. Click `Upload`\n",
    "\n",
    "How to download file from the sever (when you work remotely):\n",
    "1. Click `File` > `Download as` > `notebook.ipnb`\n",
    "<img src=\"img/03.png\">\n"
   ]
  },
  {
   "cell_type": "markdown",
   "metadata": {},
   "source": [
    "### 01.02.04 Useful Jupyter Notebook shortcuts\n",
    "\n",
    "The Jupyter Notebook has two different keyboard input modes. `Edit` mode allows you to type code or text into a cell and is indicated by a **green** cell border. `Command` mode binds the keyboard to notebook level commands and is indicated by a grey cell border with a **blue** left margin.\n",
    "\n",
    "When you are in edit mode you can write a code in the cells. To switch to the `command` mode click `ESC`\n",
    "\n",
    "In `command` mode you can use shortcuts (shortcuts can be Edited in `Help` > `Edit Keyboard Shortcuts`:\n",
    "\n",
    "Shortcut | Action\n",
    "------------ | -------------\n",
    "`CTRL`+`ENTER` | run cell\n",
    "`x` | Cut cell\n",
    "`c` | Copy cell\n",
    "`v` | Paste cell\n",
    "`a` | Insert empty cell above\n",
    "`b` | Insert empty cell below\n",
    "`m` | Chenge cell into markdown cell\n",
    "\\`\\`| (Custom) Restart kernel"
   ]
  },
  {
   "cell_type": "markdown",
   "metadata": {},
   "source": [
    "### 01.02.05 What are the caveats Jupyter users must be particularly aware of?\n",
    "\n",
    "Jupyter Notebook is a great tool with a lot of functionality but when you use all these *magic* functions and command line tools you need to first test their behaviour to gain some intuition how does it work. In the example below we investigate how does the command line workflow look like: "
   ]
  },
  {
   "cell_type": "code",
   "execution_count": 4,
   "metadata": {},
   "outputs": [
    {
     "name": "stdout",
     "output_type": "stream",
     "text": [
      "/home/lcs123/DS/dstip/02_Jupyter_Notebook\r\n"
     ]
    }
   ],
   "source": [
    "# this is current working directory for this notebook\n",
    "!pwd"
   ]
  },
  {
   "cell_type": "code",
   "execution_count": 5,
   "metadata": {},
   "outputs": [],
   "source": [
    "# we run the command to chenge working directory, everything seems to be OK\n",
    "!cd ../dstip_utils/"
   ]
  },
  {
   "cell_type": "code",
   "execution_count": 6,
   "metadata": {},
   "outputs": [
    {
     "name": "stdout",
     "output_type": "stream",
     "text": [
      "/home/lcs123/DS/dstip/02_Jupyter_Notebook\r\n"
     ]
    }
   ],
   "source": [
    "# unfortunately current working directory has not changed\n",
    "!pwd"
   ]
  },
  {
   "cell_type": "code",
   "execution_count": 7,
   "metadata": {},
   "outputs": [
    {
     "name": "stdout",
     "output_type": "stream",
     "text": [
      "/home/lcs123/DS/dstip/dstip_utils\r\n"
     ]
    }
   ],
   "source": [
    "# we can check that working directory is indeed changed but only temporarly \n",
    "!cd ../dstip_utils/;pwd"
   ]
  },
  {
   "cell_type": "code",
   "execution_count": 8,
   "metadata": {},
   "outputs": [
    {
     "name": "stdout",
     "output_type": "stream",
     "text": [
      "/home/lcs123/DS/dstip/dstip_utils\n"
     ]
    }
   ],
   "source": [
    "# in this case what we need is magic command `%cd` \n",
    "# which permanently change the working directory for the notebook\n",
    "%cd ../dstip_utils/"
   ]
  },
  {
   "cell_type": "code",
   "execution_count": 9,
   "metadata": {},
   "outputs": [
    {
     "name": "stdout",
     "output_type": "stream",
     "text": [
      "/home/lcs123/DS/dstip/dstip_utils\r\n"
     ]
    }
   ],
   "source": [
    "# we may notice that the working directory has changed\n",
    "# this condition will continue untill we change it explicite (or restart the IPython kernel)\n",
    "!pwd"
   ]
  },
  {
   "cell_type": "markdown",
   "metadata": {},
   "source": [
    "## 01.03 Run notebooks via command line\n",
    "Sometimes it is very helpful to run jupyter notebook via command line. To do this we use `nbconvert`. Run in the shell\n",
    "\n",
    "```bash\n",
    "jupyter nbconvert --to pdf '02_01_Jupyter_Notebook.ipynb'\n",
    "\n",
    "jupyter nbconvert --to html '02_01_Jupyter_Notebook.ipynb'\n",
    "```"
   ]
  },
  {
   "cell_type": "markdown",
   "metadata": {},
   "source": [
    "## 01.04 When to use Jupyter Notebook"
   ]
  },
  {
   "cell_type": "markdown",
   "metadata": {},
   "source": [
    "When TO USE | When NOT TO USE\n",
    "------------ | -------------\n",
    "Making a report (something to send/export/present) | GIT Version Control is crucial\n",
    "Exploring, leaning, prototyping | Meanwhile developing a lot of python sub-packages\n",
    "Executing manually | Executing via tools (CI) with *args*\n",
    "... or making a training |"
   ]
  },
  {
   "cell_type": "code",
   "execution_count": null,
   "metadata": {},
   "outputs": [],
   "source": []
  }
 ],
 "metadata": {
  "kernelspec": {
   "display_name": "Python (ds1)",
   "language": "python",
   "name": "myenv"
  },
  "language_info": {
   "codemirror_mode": {
    "name": "ipython",
    "version": 3
   },
   "file_extension": ".py",
   "mimetype": "text/x-python",
   "name": "python",
   "nbconvert_exporter": "python",
   "pygments_lexer": "ipython3",
   "version": "3.6.6"
  }
 },
 "nbformat": 4,
 "nbformat_minor": 2
}
