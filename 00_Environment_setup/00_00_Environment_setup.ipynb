{
 "cells": [
  {
   "cell_type": "markdown",
   "metadata": {},
   "source": [
    "# 00. Environment setup\n",
    "\n",
    "## 00.1 Install `python`\n",
    "\n",
    "I recommend using `python3.6` or `python3.7` in this tutorial. We will focus ONLY on `python` on `Linux/UNIX`. We will not consider other OS like `Windows`, `Mac OS X`.\n",
    "\n",
    "to install `python3` run:\n",
    "```bash\n",
    "sudo apt-get install python3\n",
    "```"
   ]
  },
  {
   "cell_type": "markdown",
   "metadata": {},
   "source": [
    "## 00.2 Virtual Environment via `virtualenv`\n",
    "\n",
    "It is a good python practice to use separate virtual environment for different projects. There is a great tutorial about Virtual Environments https://docs.python-guide.org/dev/virtualenvs/. I highly recommend to familiarize yourself with it as an introduction. The part we are interested in this tutorial is:\n",
    "\n",
    "> Lower level: virtualenv <br>\n",
    "> .  <br>\n",
    "> .  <br>\n",
    "> .  <br>\n",
    "> virtualenvwrapper <br>"
   ]
  },
  {
   "cell_type": "markdown",
   "metadata": {},
   "source": [
    "\n",
    "### 00.2.1 Check your version of `python`\n",
    "In shell:\n",
    "```bash\n",
    "python\n",
    "```\n",
    "> Python 3.6.8 (default, Jan 14 2019, 11:02:34) <br>\n",
    "> [GCC 8.0.1 20180414 (experimental) [trunk revision 259383]] on linux  <br>\n",
    "> Type \"help\", \"copyright\", \"credits\" or \"license\" for more information. <br>\n",
    "\n",
    "```python\n",
    "exit()\n",
    "```\n",
    "In our case we have `python3.6` which is OK. If the python version is not satysfying for you then find the desired binary file:\n",
    "```bash\n",
    "which python\n",
    "```\n",
    "> /usr/bin/python2.7\n",
    "\n",
    "```bash\n",
    "ls /usr/bin/ | grep python\n",
    "```\n",
    "\n",
    "> python <br>\n",
    "> python2 <br>\n",
    "> python2.7 <br>\n",
    "> python3 <br>\n",
    "> python3.6 <br>\n",
    "> python3.6m <br>\n",
    "> python3m <br>\n",
    "\n",
    "if you choose eg. `python3.6` the binary file is `/usr/bin/python3.6`\n"
   ]
  },
  {
   "cell_type": "markdown",
   "metadata": {},
   "source": [
    "### 00.2.2 Install `virtualenv`\n",
    "Package: https://pypi.org/project/virtualenv/\n",
    "\n",
    "Documentation: https://virtualenv.pypa.io/en/latest/\n",
    "\n",
    "Run:\n",
    "```bash\n",
    "pip install virtualenv\n",
    "```"
   ]
  },
  {
   "cell_type": "markdown",
   "metadata": {},
   "source": [
    "### 00.2.3 Create new Virtual Environment\n",
    "\n",
    "Command to create new Virtual Environment:\n",
    "```\n",
    "virtualenv -p <path_to_python_binary_file> <path_to_the_directory_to_set_up_virtual_environment>\n",
    "```\n",
    "In our case it will be:\n",
    "```\n",
    "virtualenv -p /usr/bin/python3.6 ~/venvs/dstip_venv\n",
    "```\n",
    "A new Virtual Environment has been created in `~/venvs/dstip_venv`. To activate it run:\n",
    "```bash\n",
    "source ~/venvs/dstip_venv/bin/activate\n",
    "```\n",
    "In the shell you should see information about Virtual Environment:\n",
    "<img src=\"img/01.png\">\n",
    "The default `python` is now:\n",
    "```bash\n",
    "which python\n",
    "```\n",
    "> /home/lcs123/venvs/dstip_venv/bin/python"
   ]
  },
  {
   "cell_type": "markdown",
   "metadata": {},
   "source": [
    "### 00.2.4 Clone the repository and install requirements\n",
    "```bash\n",
    "cd some/directory/you/want/to/work...\n",
    "git clone git@gitlab.com:lukasz_cesarski/dstip.git\n",
    "cd dstip\n",
    "ls\n",
    "```\n",
    "> 00_Environment_setup  02_Jupyter_Notebook  04_Numpy       06_Seaborn       README.md <br>\n",
    "> 01_Ipython            03_Pandas            05_Matplotlib  07_scikit_learn  <br>\n",
    "\n",
    "\n",
    "**Now you need to care about having the Virtual Environement activated!** Otherwise installed packages will not be working with your Virtual Environement!\n",
    "```bash\n",
    "pip install -r requirements.txt\n",
    "```\n",
    "\n",
    "Other required packages Linux (converted jupyter notebook to formats other than HTML, eg. PDF)\n",
    "```\n",
    "sudo apt-get install pandoc\n",
    "sudo apt-get install texlive-xetex\n",
    "```"
   ]
  },
  {
   "cell_type": "markdown",
   "metadata": {},
   "source": [
    "### 00.2.5 Run Jupyter Notebook Server\n",
    "Run:\n",
    "```bash\n",
    "jupyter notebook\n",
    "``` \n",
    "You should get something like this:\n",
    "```\n",
    "[I 15:22:54.211 NotebookApp] Serving notebooks from local directory: /home/lcs123/DS/dstip\n",
    "[I 15:22:54.211 NotebookApp] The Jupyter Notebook is running at:\n",
    "[I 15:22:54.212 NotebookApp] http://localhost:8888/?token=05c9bff078455648dbd73882c837e4f44d7f56471047b354\n",
    "[I 15:22:54.212 NotebookApp]  or http://127.0.0.1:8888/?token=05c9bff078455648dbd73882c837e4f44d7f56471047b354\n",
    "[I 15:22:54.212 NotebookApp] Use Control-C to stop this server and shut down all kernels (twice to skip confirmation).\n",
    "[C 15:22:54.218 NotebookApp] \n",
    "    \n",
    "    To access the notebook, open this file in a browser:\n",
    "        file:///home/lcs123/.local/share/jupyter/runtime/nbserver-9481-open.html\n",
    "    Or copy and paste one of these URLs:\n",
    "        http://localhost:8888/?token=05c9bff078455648dbd73882c837e4f44d7f56471047b354\n",
    "     or http://127.0.0.1:8888/?token=05c9bff078455648dbd73882c837e4f44d7f56471047b354\n",
    "```\n",
    "Follow the instructions and open jupyter notebook in your web browser\n",
    "Now you can go to the file _00_01_Test_installation.ipynb_ and check if eveything went well."
   ]
  },
  {
   "cell_type": "code",
   "execution_count": null,
   "metadata": {},
   "outputs": [],
   "source": []
  }
 ],
 "metadata": {
  "kernelspec": {
   "display_name": "Python (ds1)",
   "language": "python",
   "name": "myenv"
  },
  "language_info": {
   "codemirror_mode": {
    "name": "ipython",
    "version": 3
   },
   "file_extension": ".py",
   "mimetype": "text/x-python",
   "name": "python",
   "nbconvert_exporter": "python",
   "pygments_lexer": "ipython3",
   "version": "3.6.6"
  }
 },
 "nbformat": 4,
 "nbformat_minor": 2
}
